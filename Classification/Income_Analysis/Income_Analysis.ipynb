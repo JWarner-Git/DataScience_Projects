{
 "cells": [
  {
   "cell_type": "markdown",
   "metadata": {},
   "source": [
    "# Importing data and EDA"
   ]
  },
  {
   "cell_type": "code",
   "execution_count": 38,
   "metadata": {},
   "outputs": [],
   "source": [
    "import pandas as pd\n",
    "import numpy as np\n",
    "df=pd.read_csv('C:/Users/Jack/Desktop/CSE801B/Adults/adult.csv', na_values='?')"
   ]
  },
  {
   "cell_type": "code",
   "execution_count": 39,
   "metadata": {},
   "outputs": [
    {
     "data": {
      "text/plain": [
       "(32561, 15)"
      ]
     },
     "execution_count": 39,
     "metadata": {},
     "output_type": "execute_result"
    }
   ],
   "source": [
    "df.shape"
   ]
  },
  {
   "cell_type": "code",
   "execution_count": 40,
   "metadata": {},
   "outputs": [
    {
     "data": {
      "text/html": [
       "<div>\n",
       "<style scoped>\n",
       "    .dataframe tbody tr th:only-of-type {\n",
       "        vertical-align: middle;\n",
       "    }\n",
       "\n",
       "    .dataframe tbody tr th {\n",
       "        vertical-align: top;\n",
       "    }\n",
       "\n",
       "    .dataframe thead th {\n",
       "        text-align: right;\n",
       "    }\n",
       "</style>\n",
       "<table border=\"1\" class=\"dataframe\">\n",
       "  <thead>\n",
       "    <tr style=\"text-align: right;\">\n",
       "      <th></th>\n",
       "      <th>age</th>\n",
       "      <th>workclass</th>\n",
       "      <th>fnlwgt</th>\n",
       "      <th>education</th>\n",
       "      <th>education.num</th>\n",
       "      <th>marital.status</th>\n",
       "      <th>occupation</th>\n",
       "      <th>relationship</th>\n",
       "      <th>race</th>\n",
       "      <th>sex</th>\n",
       "      <th>capital.gain</th>\n",
       "      <th>capital.loss</th>\n",
       "      <th>hours.per.week</th>\n",
       "      <th>native.country</th>\n",
       "      <th>income</th>\n",
       "    </tr>\n",
       "  </thead>\n",
       "  <tbody>\n",
       "    <tr>\n",
       "      <th>0</th>\n",
       "      <td>90</td>\n",
       "      <td>NaN</td>\n",
       "      <td>77053</td>\n",
       "      <td>HS-grad</td>\n",
       "      <td>9</td>\n",
       "      <td>Widowed</td>\n",
       "      <td>NaN</td>\n",
       "      <td>Not-in-family</td>\n",
       "      <td>White</td>\n",
       "      <td>Female</td>\n",
       "      <td>0</td>\n",
       "      <td>4356</td>\n",
       "      <td>40</td>\n",
       "      <td>United-States</td>\n",
       "      <td>&lt;=50K</td>\n",
       "    </tr>\n",
       "    <tr>\n",
       "      <th>1</th>\n",
       "      <td>82</td>\n",
       "      <td>Private</td>\n",
       "      <td>132870</td>\n",
       "      <td>HS-grad</td>\n",
       "      <td>9</td>\n",
       "      <td>Widowed</td>\n",
       "      <td>Exec-managerial</td>\n",
       "      <td>Not-in-family</td>\n",
       "      <td>White</td>\n",
       "      <td>Female</td>\n",
       "      <td>0</td>\n",
       "      <td>4356</td>\n",
       "      <td>18</td>\n",
       "      <td>United-States</td>\n",
       "      <td>&lt;=50K</td>\n",
       "    </tr>\n",
       "    <tr>\n",
       "      <th>2</th>\n",
       "      <td>66</td>\n",
       "      <td>NaN</td>\n",
       "      <td>186061</td>\n",
       "      <td>Some-college</td>\n",
       "      <td>10</td>\n",
       "      <td>Widowed</td>\n",
       "      <td>NaN</td>\n",
       "      <td>Unmarried</td>\n",
       "      <td>Black</td>\n",
       "      <td>Female</td>\n",
       "      <td>0</td>\n",
       "      <td>4356</td>\n",
       "      <td>40</td>\n",
       "      <td>United-States</td>\n",
       "      <td>&lt;=50K</td>\n",
       "    </tr>\n",
       "    <tr>\n",
       "      <th>3</th>\n",
       "      <td>54</td>\n",
       "      <td>Private</td>\n",
       "      <td>140359</td>\n",
       "      <td>7th-8th</td>\n",
       "      <td>4</td>\n",
       "      <td>Divorced</td>\n",
       "      <td>Machine-op-inspct</td>\n",
       "      <td>Unmarried</td>\n",
       "      <td>White</td>\n",
       "      <td>Female</td>\n",
       "      <td>0</td>\n",
       "      <td>3900</td>\n",
       "      <td>40</td>\n",
       "      <td>United-States</td>\n",
       "      <td>&lt;=50K</td>\n",
       "    </tr>\n",
       "    <tr>\n",
       "      <th>4</th>\n",
       "      <td>41</td>\n",
       "      <td>Private</td>\n",
       "      <td>264663</td>\n",
       "      <td>Some-college</td>\n",
       "      <td>10</td>\n",
       "      <td>Separated</td>\n",
       "      <td>Prof-specialty</td>\n",
       "      <td>Own-child</td>\n",
       "      <td>White</td>\n",
       "      <td>Female</td>\n",
       "      <td>0</td>\n",
       "      <td>3900</td>\n",
       "      <td>40</td>\n",
       "      <td>United-States</td>\n",
       "      <td>&lt;=50K</td>\n",
       "    </tr>\n",
       "  </tbody>\n",
       "</table>\n",
       "</div>"
      ],
      "text/plain": [
       "   age workclass  fnlwgt     education  education.num marital.status  \\\n",
       "0   90       NaN   77053       HS-grad              9        Widowed   \n",
       "1   82   Private  132870       HS-grad              9        Widowed   \n",
       "2   66       NaN  186061  Some-college             10        Widowed   \n",
       "3   54   Private  140359       7th-8th              4       Divorced   \n",
       "4   41   Private  264663  Some-college             10      Separated   \n",
       "\n",
       "          occupation   relationship   race     sex  capital.gain  \\\n",
       "0                NaN  Not-in-family  White  Female             0   \n",
       "1    Exec-managerial  Not-in-family  White  Female             0   \n",
       "2                NaN      Unmarried  Black  Female             0   \n",
       "3  Machine-op-inspct      Unmarried  White  Female             0   \n",
       "4     Prof-specialty      Own-child  White  Female             0   \n",
       "\n",
       "   capital.loss  hours.per.week native.country income  \n",
       "0          4356              40  United-States  <=50K  \n",
       "1          4356              18  United-States  <=50K  \n",
       "2          4356              40  United-States  <=50K  \n",
       "3          3900              40  United-States  <=50K  \n",
       "4          3900              40  United-States  <=50K  "
      ]
     },
     "execution_count": 40,
     "metadata": {},
     "output_type": "execute_result"
    }
   ],
   "source": [
    "df.head()"
   ]
  },
  {
   "cell_type": "code",
   "execution_count": 41,
   "metadata": {},
   "outputs": [
    {
     "data": {
      "text/plain": [
       "age                  0\n",
       "workclass         1836\n",
       "fnlwgt               0\n",
       "education            0\n",
       "education.num        0\n",
       "marital.status       0\n",
       "occupation        1843\n",
       "relationship         0\n",
       "race                 0\n",
       "sex                  0\n",
       "capital.gain         0\n",
       "capital.loss         0\n",
       "hours.per.week       0\n",
       "native.country     583\n",
       "income               0\n",
       "dtype: int64"
      ]
     },
     "execution_count": 41,
     "metadata": {},
     "output_type": "execute_result"
    }
   ],
   "source": [
    "df.isna().sum()"
   ]
  },
  {
   "cell_type": "code",
   "execution_count": 42,
   "metadata": {},
   "outputs": [
    {
     "data": {
      "text/plain": [
       "9     10501\n",
       "10     7291\n",
       "13     5355\n",
       "14     1723\n",
       "11     1382\n",
       "7      1175\n",
       "12     1067\n",
       "6       933\n",
       "4       646\n",
       "15      576\n",
       "5       514\n",
       "8       433\n",
       "16      413\n",
       "3       333\n",
       "2       168\n",
       "1        51\n",
       "Name: education.num, dtype: int64"
      ]
     },
     "execution_count": 42,
     "metadata": {},
     "output_type": "execute_result"
    }
   ],
   "source": [
    "df['education.num'].value_counts()"
   ]
  },
  {
   "cell_type": "code",
   "execution_count": 43,
   "metadata": {},
   "outputs": [
    {
     "data": {
      "text/plain": [
       "0        0.916710\n",
       "15024    0.010657\n",
       "7688     0.008722\n",
       "7298     0.007555\n",
       "99999    0.004883\n",
       "           ...   \n",
       "4931     0.000031\n",
       "1455     0.000031\n",
       "6097     0.000031\n",
       "22040    0.000031\n",
       "1111     0.000031\n",
       "Name: capital.gain, Length: 119, dtype: float64"
      ]
     },
     "execution_count": 43,
     "metadata": {},
     "output_type": "execute_result"
    }
   ],
   "source": [
    "df['capital.gain'].value_counts()/df['income'].shape[0]"
   ]
  },
  {
   "cell_type": "code",
   "execution_count": 44,
   "metadata": {},
   "outputs": [],
   "source": [
    "#Take numeric dataframe from data and plot distributions for later use"
   ]
  },
  {
   "cell_type": "code",
   "execution_count": 45,
   "metadata": {},
   "outputs": [
    {
     "data": {
      "text/plain": [
       "HS-grad         10501\n",
       "Some-college     7291\n",
       "Bachelors        5355\n",
       "Masters          1723\n",
       "Assoc-voc        1382\n",
       "11th             1175\n",
       "Assoc-acdm       1067\n",
       "10th              933\n",
       "7th-8th           646\n",
       "Prof-school       576\n",
       "9th               514\n",
       "12th              433\n",
       "Doctorate         413\n",
       "5th-6th           333\n",
       "1st-4th           168\n",
       "Preschool          51\n",
       "Name: education, dtype: int64"
      ]
     },
     "execution_count": 45,
     "metadata": {},
     "output_type": "execute_result"
    }
   ],
   "source": [
    "df['education'].value_counts()"
   ]
  },
  {
   "cell_type": "code",
   "execution_count": 46,
   "metadata": {},
   "outputs": [],
   "source": [
    "#Binning education for similar levels due to them taking up a small percentage of the data and having similar characteristics.\n",
    "education_map={'Preschool': 'Under9',\n",
    "              '1st-4th': 'Under9',\n",
    "              '5th-6th': 'Under9',\n",
    "              '7th-8th': 'Under9',\n",
    "              '9th': 'high-school',\n",
    "               '10th': 'high-school',\n",
    "               '11th': 'high-school',\n",
    "               '12th': 'high-school',\n",
    "              }\n",
    "df['education'].replace(education_map, inplace=True)"
   ]
  },
  {
   "cell_type": "code",
   "execution_count": 47,
   "metadata": {},
   "outputs": [
    {
     "data": {
      "text/plain": [
       "HS-grad         10501\n",
       "Some-college     7291\n",
       "Bachelors        5355\n",
       "high-school      3055\n",
       "Masters          1723\n",
       "Assoc-voc        1382\n",
       "Under9           1198\n",
       "Assoc-acdm       1067\n",
       "Prof-school       576\n",
       "Doctorate         413\n",
       "Name: education, dtype: int64"
      ]
     },
     "execution_count": 47,
     "metadata": {},
     "output_type": "execute_result"
    }
   ],
   "source": [
    "df['education'].value_counts()"
   ]
  },
  {
   "cell_type": "code",
   "execution_count": 48,
   "metadata": {},
   "outputs": [
    {
     "data": {
      "text/plain": [
       "Private             22696\n",
       "Self-emp-not-inc     2541\n",
       "Local-gov            2093\n",
       "State-gov            1298\n",
       "Self-emp-inc         1116\n",
       "Federal-gov           960\n",
       "Without-pay            14\n",
       "Never-worked            7\n",
       "Name: workclass, dtype: int64"
      ]
     },
     "execution_count": 48,
     "metadata": {},
     "output_type": "execute_result"
    }
   ],
   "source": [
    "df['workclass'].value_counts()"
   ]
  },
  {
   "cell_type": "code",
   "execution_count": 49,
   "metadata": {},
   "outputs": [
    {
     "data": {
      "text/plain": [
       "Married-civ-spouse       14976\n",
       "Never-married            10683\n",
       "Divorced                  4443\n",
       "Separated                 1025\n",
       "Widowed                    993\n",
       "Married-spouse-absent      418\n",
       "Married-AF-spouse           23\n",
       "Name: marital.status, dtype: int64"
      ]
     },
     "execution_count": 49,
     "metadata": {},
     "output_type": "execute_result"
    }
   ],
   "source": [
    "df['marital.status'].value_counts()"
   ]
  },
  {
   "cell_type": "code",
   "execution_count": 50,
   "metadata": {},
   "outputs": [
    {
     "data": {
      "text/plain": [
       "Prof-specialty       4140\n",
       "Craft-repair         4099\n",
       "Exec-managerial      4066\n",
       "Adm-clerical         3770\n",
       "Sales                3650\n",
       "Other-service        3295\n",
       "Machine-op-inspct    2002\n",
       "Transport-moving     1597\n",
       "Handlers-cleaners    1370\n",
       "Farming-fishing       994\n",
       "Tech-support          928\n",
       "Protective-serv       649\n",
       "Priv-house-serv       149\n",
       "Armed-Forces            9\n",
       "Name: occupation, dtype: int64"
      ]
     },
     "execution_count": 50,
     "metadata": {},
     "output_type": "execute_result"
    }
   ],
   "source": [
    "df['occupation'].value_counts()"
   ]
  },
  {
   "cell_type": "code",
   "execution_count": 51,
   "metadata": {},
   "outputs": [
    {
     "data": {
      "text/plain": [
       "Husband           13193\n",
       "Not-in-family      8305\n",
       "Own-child          5068\n",
       "Unmarried          3446\n",
       "Wife               1568\n",
       "Other-relative      981\n",
       "Name: relationship, dtype: int64"
      ]
     },
     "execution_count": 51,
     "metadata": {},
     "output_type": "execute_result"
    }
   ],
   "source": [
    "df['relationship'].value_counts()"
   ]
  },
  {
   "cell_type": "code",
   "execution_count": 52,
   "metadata": {},
   "outputs": [],
   "source": [
    "#y.value_counts()"
   ]
  },
  {
   "cell_type": "code",
   "execution_count": 53,
   "metadata": {},
   "outputs": [
    {
     "data": {
      "text/plain": [
       "White                 27816\n",
       "Black                  3124\n",
       "Asian-Pac-Islander     1039\n",
       "Amer-Indian-Eskimo      311\n",
       "Other                   271\n",
       "Name: race, dtype: int64"
      ]
     },
     "execution_count": 53,
     "metadata": {},
     "output_type": "execute_result"
    }
   ],
   "source": [
    "df['race'].value_counts()"
   ]
  },
  {
   "cell_type": "code",
   "execution_count": 54,
   "metadata": {},
   "outputs": [
    {
     "data": {
      "text/plain": [
       "Male      21790\n",
       "Female    10771\n",
       "Name: sex, dtype: int64"
      ]
     },
     "execution_count": 54,
     "metadata": {},
     "output_type": "execute_result"
    }
   ],
   "source": [
    "df['sex'].value_counts()"
   ]
  },
  {
   "cell_type": "code",
   "execution_count": 55,
   "metadata": {},
   "outputs": [
    {
     "data": {
      "text/plain": [
       "United-States                 29170\n",
       "Mexico                          643\n",
       "Philippines                     198\n",
       "Germany                         137\n",
       "Canada                          121\n",
       "Puerto-Rico                     114\n",
       "El-Salvador                     106\n",
       "India                           100\n",
       "Cuba                             95\n",
       "England                          90\n",
       "Jamaica                          81\n",
       "South                            80\n",
       "China                            75\n",
       "Italy                            73\n",
       "Dominican-Republic               70\n",
       "Vietnam                          67\n",
       "Guatemala                        64\n",
       "Japan                            62\n",
       "Poland                           60\n",
       "Columbia                         59\n",
       "Taiwan                           51\n",
       "Haiti                            44\n",
       "Iran                             43\n",
       "Portugal                         37\n",
       "Nicaragua                        34\n",
       "Peru                             31\n",
       "Greece                           29\n",
       "France                           29\n",
       "Ecuador                          28\n",
       "Ireland                          24\n",
       "Hong                             20\n",
       "Cambodia                         19\n",
       "Trinadad&Tobago                  19\n",
       "Laos                             18\n",
       "Thailand                         18\n",
       "Yugoslavia                       16\n",
       "Outlying-US(Guam-USVI-etc)       14\n",
       "Hungary                          13\n",
       "Honduras                         13\n",
       "Scotland                         12\n",
       "Holand-Netherlands                1\n",
       "Name: native.country, dtype: int64"
      ]
     },
     "execution_count": 55,
     "metadata": {},
     "output_type": "execute_result"
    }
   ],
   "source": [
    "df['native.country'].value_counts()"
   ]
  },
  {
   "cell_type": "code",
   "execution_count": 56,
   "metadata": {},
   "outputs": [],
   "source": [
    "# y=df['income']\n",
    "# df.drop(columns=['income'], inplace=True)"
   ]
  },
  {
   "cell_type": "code",
   "execution_count": 57,
   "metadata": {},
   "outputs": [
    {
     "data": {
      "text/html": [
       "<div>\n",
       "<style scoped>\n",
       "    .dataframe tbody tr th:only-of-type {\n",
       "        vertical-align: middle;\n",
       "    }\n",
       "\n",
       "    .dataframe tbody tr th {\n",
       "        vertical-align: top;\n",
       "    }\n",
       "\n",
       "    .dataframe thead th {\n",
       "        text-align: right;\n",
       "    }\n",
       "</style>\n",
       "<table border=\"1\" class=\"dataframe\">\n",
       "  <thead>\n",
       "    <tr style=\"text-align: right;\">\n",
       "      <th></th>\n",
       "      <th>age</th>\n",
       "      <th>workclass</th>\n",
       "      <th>fnlwgt</th>\n",
       "      <th>education</th>\n",
       "      <th>education.num</th>\n",
       "      <th>marital.status</th>\n",
       "      <th>occupation</th>\n",
       "      <th>relationship</th>\n",
       "      <th>race</th>\n",
       "      <th>sex</th>\n",
       "      <th>capital.gain</th>\n",
       "      <th>capital.loss</th>\n",
       "      <th>hours.per.week</th>\n",
       "      <th>native.country</th>\n",
       "      <th>income</th>\n",
       "    </tr>\n",
       "  </thead>\n",
       "  <tbody>\n",
       "    <tr>\n",
       "      <th>0</th>\n",
       "      <td>90</td>\n",
       "      <td>NaN</td>\n",
       "      <td>77053</td>\n",
       "      <td>HS-grad</td>\n",
       "      <td>9</td>\n",
       "      <td>Widowed</td>\n",
       "      <td>NaN</td>\n",
       "      <td>Not-in-family</td>\n",
       "      <td>White</td>\n",
       "      <td>Female</td>\n",
       "      <td>0</td>\n",
       "      <td>4356</td>\n",
       "      <td>40</td>\n",
       "      <td>United-States</td>\n",
       "      <td>&lt;=50K</td>\n",
       "    </tr>\n",
       "    <tr>\n",
       "      <th>1</th>\n",
       "      <td>82</td>\n",
       "      <td>Private</td>\n",
       "      <td>132870</td>\n",
       "      <td>HS-grad</td>\n",
       "      <td>9</td>\n",
       "      <td>Widowed</td>\n",
       "      <td>Exec-managerial</td>\n",
       "      <td>Not-in-family</td>\n",
       "      <td>White</td>\n",
       "      <td>Female</td>\n",
       "      <td>0</td>\n",
       "      <td>4356</td>\n",
       "      <td>18</td>\n",
       "      <td>United-States</td>\n",
       "      <td>&lt;=50K</td>\n",
       "    </tr>\n",
       "    <tr>\n",
       "      <th>2</th>\n",
       "      <td>66</td>\n",
       "      <td>NaN</td>\n",
       "      <td>186061</td>\n",
       "      <td>Some-college</td>\n",
       "      <td>10</td>\n",
       "      <td>Widowed</td>\n",
       "      <td>NaN</td>\n",
       "      <td>Unmarried</td>\n",
       "      <td>Black</td>\n",
       "      <td>Female</td>\n",
       "      <td>0</td>\n",
       "      <td>4356</td>\n",
       "      <td>40</td>\n",
       "      <td>United-States</td>\n",
       "      <td>&lt;=50K</td>\n",
       "    </tr>\n",
       "    <tr>\n",
       "      <th>3</th>\n",
       "      <td>54</td>\n",
       "      <td>Private</td>\n",
       "      <td>140359</td>\n",
       "      <td>Under9</td>\n",
       "      <td>4</td>\n",
       "      <td>Divorced</td>\n",
       "      <td>Machine-op-inspct</td>\n",
       "      <td>Unmarried</td>\n",
       "      <td>White</td>\n",
       "      <td>Female</td>\n",
       "      <td>0</td>\n",
       "      <td>3900</td>\n",
       "      <td>40</td>\n",
       "      <td>United-States</td>\n",
       "      <td>&lt;=50K</td>\n",
       "    </tr>\n",
       "    <tr>\n",
       "      <th>4</th>\n",
       "      <td>41</td>\n",
       "      <td>Private</td>\n",
       "      <td>264663</td>\n",
       "      <td>Some-college</td>\n",
       "      <td>10</td>\n",
       "      <td>Separated</td>\n",
       "      <td>Prof-specialty</td>\n",
       "      <td>Own-child</td>\n",
       "      <td>White</td>\n",
       "      <td>Female</td>\n",
       "      <td>0</td>\n",
       "      <td>3900</td>\n",
       "      <td>40</td>\n",
       "      <td>United-States</td>\n",
       "      <td>&lt;=50K</td>\n",
       "    </tr>\n",
       "    <tr>\n",
       "      <th>...</th>\n",
       "      <td>...</td>\n",
       "      <td>...</td>\n",
       "      <td>...</td>\n",
       "      <td>...</td>\n",
       "      <td>...</td>\n",
       "      <td>...</td>\n",
       "      <td>...</td>\n",
       "      <td>...</td>\n",
       "      <td>...</td>\n",
       "      <td>...</td>\n",
       "      <td>...</td>\n",
       "      <td>...</td>\n",
       "      <td>...</td>\n",
       "      <td>...</td>\n",
       "      <td>...</td>\n",
       "    </tr>\n",
       "    <tr>\n",
       "      <th>32556</th>\n",
       "      <td>22</td>\n",
       "      <td>Private</td>\n",
       "      <td>310152</td>\n",
       "      <td>Some-college</td>\n",
       "      <td>10</td>\n",
       "      <td>Never-married</td>\n",
       "      <td>Protective-serv</td>\n",
       "      <td>Not-in-family</td>\n",
       "      <td>White</td>\n",
       "      <td>Male</td>\n",
       "      <td>0</td>\n",
       "      <td>0</td>\n",
       "      <td>40</td>\n",
       "      <td>United-States</td>\n",
       "      <td>&lt;=50K</td>\n",
       "    </tr>\n",
       "    <tr>\n",
       "      <th>32557</th>\n",
       "      <td>27</td>\n",
       "      <td>Private</td>\n",
       "      <td>257302</td>\n",
       "      <td>Assoc-acdm</td>\n",
       "      <td>12</td>\n",
       "      <td>Married-civ-spouse</td>\n",
       "      <td>Tech-support</td>\n",
       "      <td>Wife</td>\n",
       "      <td>White</td>\n",
       "      <td>Female</td>\n",
       "      <td>0</td>\n",
       "      <td>0</td>\n",
       "      <td>38</td>\n",
       "      <td>United-States</td>\n",
       "      <td>&lt;=50K</td>\n",
       "    </tr>\n",
       "    <tr>\n",
       "      <th>32558</th>\n",
       "      <td>40</td>\n",
       "      <td>Private</td>\n",
       "      <td>154374</td>\n",
       "      <td>HS-grad</td>\n",
       "      <td>9</td>\n",
       "      <td>Married-civ-spouse</td>\n",
       "      <td>Machine-op-inspct</td>\n",
       "      <td>Husband</td>\n",
       "      <td>White</td>\n",
       "      <td>Male</td>\n",
       "      <td>0</td>\n",
       "      <td>0</td>\n",
       "      <td>40</td>\n",
       "      <td>United-States</td>\n",
       "      <td>&gt;50K</td>\n",
       "    </tr>\n",
       "    <tr>\n",
       "      <th>32559</th>\n",
       "      <td>58</td>\n",
       "      <td>Private</td>\n",
       "      <td>151910</td>\n",
       "      <td>HS-grad</td>\n",
       "      <td>9</td>\n",
       "      <td>Widowed</td>\n",
       "      <td>Adm-clerical</td>\n",
       "      <td>Unmarried</td>\n",
       "      <td>White</td>\n",
       "      <td>Female</td>\n",
       "      <td>0</td>\n",
       "      <td>0</td>\n",
       "      <td>40</td>\n",
       "      <td>United-States</td>\n",
       "      <td>&lt;=50K</td>\n",
       "    </tr>\n",
       "    <tr>\n",
       "      <th>32560</th>\n",
       "      <td>22</td>\n",
       "      <td>Private</td>\n",
       "      <td>201490</td>\n",
       "      <td>HS-grad</td>\n",
       "      <td>9</td>\n",
       "      <td>Never-married</td>\n",
       "      <td>Adm-clerical</td>\n",
       "      <td>Own-child</td>\n",
       "      <td>White</td>\n",
       "      <td>Male</td>\n",
       "      <td>0</td>\n",
       "      <td>0</td>\n",
       "      <td>20</td>\n",
       "      <td>United-States</td>\n",
       "      <td>&lt;=50K</td>\n",
       "    </tr>\n",
       "  </tbody>\n",
       "</table>\n",
       "<p>32561 rows × 15 columns</p>\n",
       "</div>"
      ],
      "text/plain": [
       "       age workclass  fnlwgt     education  education.num      marital.status  \\\n",
       "0       90       NaN   77053       HS-grad              9             Widowed   \n",
       "1       82   Private  132870       HS-grad              9             Widowed   \n",
       "2       66       NaN  186061  Some-college             10             Widowed   \n",
       "3       54   Private  140359        Under9              4            Divorced   \n",
       "4       41   Private  264663  Some-college             10           Separated   \n",
       "...    ...       ...     ...           ...            ...                 ...   \n",
       "32556   22   Private  310152  Some-college             10       Never-married   \n",
       "32557   27   Private  257302    Assoc-acdm             12  Married-civ-spouse   \n",
       "32558   40   Private  154374       HS-grad              9  Married-civ-spouse   \n",
       "32559   58   Private  151910       HS-grad              9             Widowed   \n",
       "32560   22   Private  201490       HS-grad              9       Never-married   \n",
       "\n",
       "              occupation   relationship   race     sex  capital.gain  \\\n",
       "0                    NaN  Not-in-family  White  Female             0   \n",
       "1        Exec-managerial  Not-in-family  White  Female             0   \n",
       "2                    NaN      Unmarried  Black  Female             0   \n",
       "3      Machine-op-inspct      Unmarried  White  Female             0   \n",
       "4         Prof-specialty      Own-child  White  Female             0   \n",
       "...                  ...            ...    ...     ...           ...   \n",
       "32556    Protective-serv  Not-in-family  White    Male             0   \n",
       "32557       Tech-support           Wife  White  Female             0   \n",
       "32558  Machine-op-inspct        Husband  White    Male             0   \n",
       "32559       Adm-clerical      Unmarried  White  Female             0   \n",
       "32560       Adm-clerical      Own-child  White    Male             0   \n",
       "\n",
       "       capital.loss  hours.per.week native.country income  \n",
       "0              4356              40  United-States  <=50K  \n",
       "1              4356              18  United-States  <=50K  \n",
       "2              4356              40  United-States  <=50K  \n",
       "3              3900              40  United-States  <=50K  \n",
       "4              3900              40  United-States  <=50K  \n",
       "...             ...             ...            ...    ...  \n",
       "32556             0              40  United-States  <=50K  \n",
       "32557             0              38  United-States  <=50K  \n",
       "32558             0              40  United-States   >50K  \n",
       "32559             0              40  United-States  <=50K  \n",
       "32560             0              20  United-States  <=50K  \n",
       "\n",
       "[32561 rows x 15 columns]"
      ]
     },
     "execution_count": 57,
     "metadata": {},
     "output_type": "execute_result"
    }
   ],
   "source": [
    "df"
   ]
  },
  {
   "cell_type": "code",
   "execution_count": null,
   "metadata": {},
   "outputs": [],
   "source": []
  },
  {
   "cell_type": "code",
   "execution_count": 58,
   "metadata": {},
   "outputs": [],
   "source": [
    "#It will be interesting to see how different regions perform, first we should fill the missing columns in the dataset"
   ]
  },
  {
   "cell_type": "markdown",
   "metadata": {},
   "source": [
    "## Data Modeling"
   ]
  },
  {
   "cell_type": "markdown",
   "metadata": {},
   "source": [
    "It can be impeding working with missing values for some of the columns so I'm going to use classification \n",
    "to fill in the missing values for some of the columns. \n",
    "I'm going to replace the columns with the least missing values in order to have the most training data for that column."
   ]
  },
  {
   "cell_type": "code",
   "execution_count": 59,
   "metadata": {},
   "outputs": [],
   "source": [
    "from sklearn.impute import KNNImputer\n",
    "from sklearn.model_selection import cross_val_score\n",
    "from sklearn.metrics import precision_score, classification_report"
   ]
  },
  {
   "cell_type": "code",
   "execution_count": 60,
   "metadata": {},
   "outputs": [],
   "source": [
    "df_copy = df.copy()\n",
    "y=df_copy['income']\n",
    "df_copy.drop(columns=['income'], inplace=True)"
   ]
  },
  {
   "cell_type": "code",
   "execution_count": 61,
   "metadata": {},
   "outputs": [
    {
     "data": {
      "text/html": [
       "<div>\n",
       "<style scoped>\n",
       "    .dataframe tbody tr th:only-of-type {\n",
       "        vertical-align: middle;\n",
       "    }\n",
       "\n",
       "    .dataframe tbody tr th {\n",
       "        vertical-align: top;\n",
       "    }\n",
       "\n",
       "    .dataframe thead th {\n",
       "        text-align: right;\n",
       "    }\n",
       "</style>\n",
       "<table border=\"1\" class=\"dataframe\">\n",
       "  <thead>\n",
       "    <tr style=\"text-align: right;\">\n",
       "      <th></th>\n",
       "      <th>age</th>\n",
       "      <th>workclass</th>\n",
       "      <th>fnlwgt</th>\n",
       "      <th>education</th>\n",
       "      <th>education.num</th>\n",
       "      <th>marital.status</th>\n",
       "      <th>occupation</th>\n",
       "      <th>relationship</th>\n",
       "      <th>race</th>\n",
       "      <th>sex</th>\n",
       "      <th>capital.gain</th>\n",
       "      <th>capital.loss</th>\n",
       "      <th>hours.per.week</th>\n",
       "      <th>native.country</th>\n",
       "    </tr>\n",
       "  </thead>\n",
       "  <tbody>\n",
       "    <tr>\n",
       "      <th>0</th>\n",
       "      <td>90</td>\n",
       "      <td>3.0</td>\n",
       "      <td>77053</td>\n",
       "      <td>HS-grad</td>\n",
       "      <td>9</td>\n",
       "      <td>Widowed</td>\n",
       "      <td>11.0</td>\n",
       "      <td>Not-in-family</td>\n",
       "      <td>White</td>\n",
       "      <td>Female</td>\n",
       "      <td>0</td>\n",
       "      <td>4356</td>\n",
       "      <td>40</td>\n",
       "      <td>38.0</td>\n",
       "    </tr>\n",
       "    <tr>\n",
       "      <th>1</th>\n",
       "      <td>82</td>\n",
       "      <td>3.0</td>\n",
       "      <td>132870</td>\n",
       "      <td>HS-grad</td>\n",
       "      <td>9</td>\n",
       "      <td>Widowed</td>\n",
       "      <td>3.0</td>\n",
       "      <td>Not-in-family</td>\n",
       "      <td>White</td>\n",
       "      <td>Female</td>\n",
       "      <td>0</td>\n",
       "      <td>4356</td>\n",
       "      <td>18</td>\n",
       "      <td>38.0</td>\n",
       "    </tr>\n",
       "    <tr>\n",
       "      <th>2</th>\n",
       "      <td>66</td>\n",
       "      <td>3.0</td>\n",
       "      <td>186061</td>\n",
       "      <td>Some-college</td>\n",
       "      <td>10</td>\n",
       "      <td>Widowed</td>\n",
       "      <td>11.0</td>\n",
       "      <td>Unmarried</td>\n",
       "      <td>Black</td>\n",
       "      <td>Female</td>\n",
       "      <td>0</td>\n",
       "      <td>4356</td>\n",
       "      <td>40</td>\n",
       "      <td>38.0</td>\n",
       "    </tr>\n",
       "    <tr>\n",
       "      <th>3</th>\n",
       "      <td>54</td>\n",
       "      <td>3.0</td>\n",
       "      <td>140359</td>\n",
       "      <td>Under9</td>\n",
       "      <td>4</td>\n",
       "      <td>Divorced</td>\n",
       "      <td>6.0</td>\n",
       "      <td>Unmarried</td>\n",
       "      <td>White</td>\n",
       "      <td>Female</td>\n",
       "      <td>0</td>\n",
       "      <td>3900</td>\n",
       "      <td>40</td>\n",
       "      <td>38.0</td>\n",
       "    </tr>\n",
       "    <tr>\n",
       "      <th>4</th>\n",
       "      <td>41</td>\n",
       "      <td>3.0</td>\n",
       "      <td>264663</td>\n",
       "      <td>Some-college</td>\n",
       "      <td>10</td>\n",
       "      <td>Separated</td>\n",
       "      <td>9.0</td>\n",
       "      <td>Own-child</td>\n",
       "      <td>White</td>\n",
       "      <td>Female</td>\n",
       "      <td>0</td>\n",
       "      <td>3900</td>\n",
       "      <td>40</td>\n",
       "      <td>38.0</td>\n",
       "    </tr>\n",
       "    <tr>\n",
       "      <th>...</th>\n",
       "      <td>...</td>\n",
       "      <td>...</td>\n",
       "      <td>...</td>\n",
       "      <td>...</td>\n",
       "      <td>...</td>\n",
       "      <td>...</td>\n",
       "      <td>...</td>\n",
       "      <td>...</td>\n",
       "      <td>...</td>\n",
       "      <td>...</td>\n",
       "      <td>...</td>\n",
       "      <td>...</td>\n",
       "      <td>...</td>\n",
       "      <td>...</td>\n",
       "    </tr>\n",
       "    <tr>\n",
       "      <th>32556</th>\n",
       "      <td>22</td>\n",
       "      <td>3.0</td>\n",
       "      <td>310152</td>\n",
       "      <td>Some-college</td>\n",
       "      <td>10</td>\n",
       "      <td>Never-married</td>\n",
       "      <td>10.0</td>\n",
       "      <td>Not-in-family</td>\n",
       "      <td>White</td>\n",
       "      <td>Male</td>\n",
       "      <td>0</td>\n",
       "      <td>0</td>\n",
       "      <td>40</td>\n",
       "      <td>38.0</td>\n",
       "    </tr>\n",
       "    <tr>\n",
       "      <th>32557</th>\n",
       "      <td>27</td>\n",
       "      <td>3.0</td>\n",
       "      <td>257302</td>\n",
       "      <td>Assoc-acdm</td>\n",
       "      <td>12</td>\n",
       "      <td>Married-civ-spouse</td>\n",
       "      <td>12.0</td>\n",
       "      <td>Wife</td>\n",
       "      <td>White</td>\n",
       "      <td>Female</td>\n",
       "      <td>0</td>\n",
       "      <td>0</td>\n",
       "      <td>38</td>\n",
       "      <td>38.0</td>\n",
       "    </tr>\n",
       "    <tr>\n",
       "      <th>32558</th>\n",
       "      <td>40</td>\n",
       "      <td>3.0</td>\n",
       "      <td>154374</td>\n",
       "      <td>HS-grad</td>\n",
       "      <td>9</td>\n",
       "      <td>Married-civ-spouse</td>\n",
       "      <td>6.0</td>\n",
       "      <td>Husband</td>\n",
       "      <td>White</td>\n",
       "      <td>Male</td>\n",
       "      <td>0</td>\n",
       "      <td>0</td>\n",
       "      <td>40</td>\n",
       "      <td>38.0</td>\n",
       "    </tr>\n",
       "    <tr>\n",
       "      <th>32559</th>\n",
       "      <td>58</td>\n",
       "      <td>3.0</td>\n",
       "      <td>151910</td>\n",
       "      <td>HS-grad</td>\n",
       "      <td>9</td>\n",
       "      <td>Widowed</td>\n",
       "      <td>0.0</td>\n",
       "      <td>Unmarried</td>\n",
       "      <td>White</td>\n",
       "      <td>Female</td>\n",
       "      <td>0</td>\n",
       "      <td>0</td>\n",
       "      <td>40</td>\n",
       "      <td>38.0</td>\n",
       "    </tr>\n",
       "    <tr>\n",
       "      <th>32560</th>\n",
       "      <td>22</td>\n",
       "      <td>3.0</td>\n",
       "      <td>201490</td>\n",
       "      <td>HS-grad</td>\n",
       "      <td>9</td>\n",
       "      <td>Never-married</td>\n",
       "      <td>0.0</td>\n",
       "      <td>Own-child</td>\n",
       "      <td>White</td>\n",
       "      <td>Male</td>\n",
       "      <td>0</td>\n",
       "      <td>0</td>\n",
       "      <td>20</td>\n",
       "      <td>38.0</td>\n",
       "    </tr>\n",
       "  </tbody>\n",
       "</table>\n",
       "<p>32561 rows × 14 columns</p>\n",
       "</div>"
      ],
      "text/plain": [
       "       age  workclass  fnlwgt     education  education.num  \\\n",
       "0       90        3.0   77053       HS-grad              9   \n",
       "1       82        3.0  132870       HS-grad              9   \n",
       "2       66        3.0  186061  Some-college             10   \n",
       "3       54        3.0  140359        Under9              4   \n",
       "4       41        3.0  264663  Some-college             10   \n",
       "...    ...        ...     ...           ...            ...   \n",
       "32556   22        3.0  310152  Some-college             10   \n",
       "32557   27        3.0  257302    Assoc-acdm             12   \n",
       "32558   40        3.0  154374       HS-grad              9   \n",
       "32559   58        3.0  151910       HS-grad              9   \n",
       "32560   22        3.0  201490       HS-grad              9   \n",
       "\n",
       "           marital.status  occupation   relationship   race     sex  \\\n",
       "0                 Widowed        11.0  Not-in-family  White  Female   \n",
       "1                 Widowed         3.0  Not-in-family  White  Female   \n",
       "2                 Widowed        11.0      Unmarried  Black  Female   \n",
       "3                Divorced         6.0      Unmarried  White  Female   \n",
       "4               Separated         9.0      Own-child  White  Female   \n",
       "...                   ...         ...            ...    ...     ...   \n",
       "32556       Never-married        10.0  Not-in-family  White    Male   \n",
       "32557  Married-civ-spouse        12.0           Wife  White  Female   \n",
       "32558  Married-civ-spouse         6.0        Husband  White    Male   \n",
       "32559             Widowed         0.0      Unmarried  White  Female   \n",
       "32560       Never-married         0.0      Own-child  White    Male   \n",
       "\n",
       "       capital.gain  capital.loss  hours.per.week  native.country  \n",
       "0                 0          4356              40            38.0  \n",
       "1                 0          4356              18            38.0  \n",
       "2                 0          4356              40            38.0  \n",
       "3                 0          3900              40            38.0  \n",
       "4                 0          3900              40            38.0  \n",
       "...             ...           ...             ...             ...  \n",
       "32556             0             0              40            38.0  \n",
       "32557             0             0              38            38.0  \n",
       "32558             0             0              40            38.0  \n",
       "32559             0             0              40            38.0  \n",
       "32560             0             0              20            38.0  \n",
       "\n",
       "[32561 rows x 14 columns]"
      ]
     },
     "execution_count": 61,
     "metadata": {},
     "output_type": "execute_result"
    }
   ],
   "source": [
    "cols_to_impute=['workclass', 'occupation', 'native.country']\n",
    "df_copy[cols_to_impute] = df_copy[cols_to_impute].apply(lambda x: x.astype('category').cat.codes if x.dtype == 'object' else x)\n",
    "imputer = KNNImputer(n_neighbors=5, missing_values=-1)\n",
    "df_copy[cols_to_impute] = imputer.fit_transform(df_copy[cols_to_impute])\n",
    "df_copy\n",
    "\n",
    "\n"
   ]
  },
  {
   "cell_type": "code",
   "execution_count": 62,
   "metadata": {},
   "outputs": [
    {
     "data": {
      "text/plain": [
       "age               0\n",
       "workclass         0\n",
       "fnlwgt            0\n",
       "education         0\n",
       "education.num     0\n",
       "marital.status    0\n",
       "occupation        0\n",
       "relationship      0\n",
       "race              0\n",
       "sex               0\n",
       "capital.gain      0\n",
       "capital.loss      0\n",
       "hours.per.week    0\n",
       "native.country    0\n",
       "dtype: int64"
      ]
     },
     "execution_count": 62,
     "metadata": {},
     "output_type": "execute_result"
    }
   ],
   "source": [
    "df_copy.isna().sum()"
   ]
  },
  {
   "cell_type": "code",
   "execution_count": 63,
   "metadata": {},
   "outputs": [
    {
     "name": "stdout",
     "output_type": "stream",
     "text": [
      "<class 'pandas.core.frame.DataFrame'>\n",
      "RangeIndex: 32561 entries, 0 to 32560\n",
      "Data columns (total 14 columns):\n",
      " #   Column          Non-Null Count  Dtype  \n",
      "---  ------          --------------  -----  \n",
      " 0   age             32561 non-null  int64  \n",
      " 1   workclass       32561 non-null  float64\n",
      " 2   fnlwgt          32561 non-null  int64  \n",
      " 3   education       32561 non-null  object \n",
      " 4   education.num   32561 non-null  int64  \n",
      " 5   marital.status  32561 non-null  object \n",
      " 6   occupation      32561 non-null  float64\n",
      " 7   relationship    32561 non-null  object \n",
      " 8   race            32561 non-null  object \n",
      " 9   sex             32561 non-null  object \n",
      " 10  capital.gain    32561 non-null  int64  \n",
      " 11  capital.loss    32561 non-null  int64  \n",
      " 12  hours.per.week  32561 non-null  int64  \n",
      " 13  native.country  32561 non-null  float64\n",
      "dtypes: float64(3), int64(6), object(5)\n",
      "memory usage: 3.5+ MB\n"
     ]
    }
   ],
   "source": [
    "df_copy.info()"
   ]
  },
  {
   "cell_type": "code",
   "execution_count": 64,
   "metadata": {},
   "outputs": [],
   "source": [
    "#Time to create dummy variables for categorical columns so theyre more easily understood\n",
    "df_encoded = pd.get_dummies(df_copy, columns=df_copy.select_dtypes(include='object').columns)"
   ]
  },
  {
   "cell_type": "code",
   "execution_count": 65,
   "metadata": {},
   "outputs": [],
   "source": [
    "y=y.map({'<=50K': 0, '>50K': 1})"
   ]
  },
  {
   "cell_type": "code",
   "execution_count": 66,
   "metadata": {},
   "outputs": [
    {
     "data": {
      "image/png": "[encoded data removed]",
      "text/plain": [
       "<Figure size 432x288 with 1 Axes>"
      ]
     },
     "metadata": {
      "needs_background": "light"
     },
     "output_type": "display_data"
    },
    {
     "data": {
      "image/png": "[encoded data removed]",
      "text/plain": [
       "<Figure size 432x288 with 1 Axes>"
      ]
     },
     "metadata": {
      "needs_background": "light"
     },
     "output_type": "display_data"
    },
    {
     "data": {
      "image/png": "[encoded data removed]",
      "text/plain": [
       "<Figure size 432x288 with 1 Axes>"
      ]
     },
     "metadata": {
      "needs_background": "light"
     },
     "output_type": "display_data"
    },
    {
     "data": {
      "image/png": "[encoded data removed]",
      "text/plain": [
       "<Figure size 432x288 with 1 Axes>"
      ]
     },
     "metadata": {
      "needs_background": "light"
     },
     "output_type": "display_data"
    },
    {
     "data": {
      "image/png": "[encoded data removed]",
      "text/plain": [
       "<Figure size 432x288 with 1 Axes>"
      ]
     },
     "metadata": {
      "needs_background": "light"
     },
     "output_type": "display_data"
    },
    {
     "data": {
      "image/png": "[encoded data removed]",
      "text/plain": [
       "<Figure size 432x288 with 1 Axes>"
      ]
     },
     "metadata": {
      "needs_background": "light"
     },
     "output_type": "display_data"
    }
   ],
   "source": [
    "#Before moving further, lets check the distribution of the numeric variables to get a better understanding\n",
    "#Since the imputation method I used previously converted some of the object columns for floats we're only going to include ints\n",
    "import matplotlib.pyplot as plt\n",
    "\n",
    "# assuming df is your pandas dataframe\n",
    "for col in df.select_dtypes(include=['int64']).columns:\n",
    "    plt.hist(df[col])\n",
    "    plt.title(col)\n",
    "    plt.show()"
   ]
  },
  {
   "cell_type": "code",
   "execution_count": 67,
   "metadata": {},
   "outputs": [],
   "source": [
    "#Capital gain and loss are skewed towards 0 so we're going to use a log transformation to help normalize that.\n",
    "skewed_cols=['capital.gain', 'capital.loss']\n",
    "for col in skewed_cols:\n",
    "    df_encoded[col] = np.log1p(df_encoded[col])"
   ]
  },
  {
   "cell_type": "code",
   "execution_count": 68,
   "metadata": {},
   "outputs": [
    {
     "data": {
      "text/html": [
       "<div>\n",
       "<style scoped>\n",
       "    .dataframe tbody tr th:only-of-type {\n",
       "        vertical-align: middle;\n",
       "    }\n",
       "\n",
       "    .dataframe tbody tr th {\n",
       "        vertical-align: top;\n",
       "    }\n",
       "\n",
       "    .dataframe thead th {\n",
       "        text-align: right;\n",
       "    }\n",
       "</style>\n",
       "<table border=\"1\" class=\"dataframe\">\n",
       "  <thead>\n",
       "    <tr style=\"text-align: right;\">\n",
       "      <th></th>\n",
       "      <th>age</th>\n",
       "      <th>workclass</th>\n",
       "      <th>fnlwgt</th>\n",
       "      <th>education.num</th>\n",
       "      <th>occupation</th>\n",
       "      <th>capital.gain</th>\n",
       "      <th>capital.loss</th>\n",
       "      <th>hours.per.week</th>\n",
       "      <th>native.country</th>\n",
       "      <th>education_Assoc-acdm</th>\n",
       "      <th>...</th>\n",
       "      <th>relationship_Own-child</th>\n",
       "      <th>relationship_Unmarried</th>\n",
       "      <th>relationship_Wife</th>\n",
       "      <th>race_Amer-Indian-Eskimo</th>\n",
       "      <th>race_Asian-Pac-Islander</th>\n",
       "      <th>race_Black</th>\n",
       "      <th>race_Other</th>\n",
       "      <th>race_White</th>\n",
       "      <th>sex_Female</th>\n",
       "      <th>sex_Male</th>\n",
       "    </tr>\n",
       "  </thead>\n",
       "  <tbody>\n",
       "    <tr>\n",
       "      <th>0</th>\n",
       "      <td>3.769612</td>\n",
       "      <td>-0.085525</td>\n",
       "      <td>-1.067997</td>\n",
       "      <td>-0.420060</td>\n",
       "      <td>1.175051</td>\n",
       "      <td>-0.299271</td>\n",
       "      <td>5.067180</td>\n",
       "      <td>-0.035429</td>\n",
       "      <td>0.264286</td>\n",
       "      <td>-0.184064</td>\n",
       "      <td>...</td>\n",
       "      <td>-0.429346</td>\n",
       "      <td>-0.344032</td>\n",
       "      <td>-0.224927</td>\n",
       "      <td>-0.098201</td>\n",
       "      <td>-0.181552</td>\n",
       "      <td>-0.325768</td>\n",
       "      <td>-0.091612</td>\n",
       "      <td>0.413020</td>\n",
       "      <td>1.422331</td>\n",
       "      <td>-1.422331</td>\n",
       "    </tr>\n",
       "    <tr>\n",
       "      <th>1</th>\n",
       "      <td>3.183112</td>\n",
       "      <td>-0.085525</td>\n",
       "      <td>-0.539169</td>\n",
       "      <td>-0.420060</td>\n",
       "      <td>-0.792804</td>\n",
       "      <td>-0.299271</td>\n",
       "      <td>5.067180</td>\n",
       "      <td>-1.817204</td>\n",
       "      <td>0.264286</td>\n",
       "      <td>-0.184064</td>\n",
       "      <td>...</td>\n",
       "      <td>-0.429346</td>\n",
       "      <td>-0.344032</td>\n",
       "      <td>-0.224927</td>\n",
       "      <td>-0.098201</td>\n",
       "      <td>-0.181552</td>\n",
       "      <td>-0.325768</td>\n",
       "      <td>-0.091612</td>\n",
       "      <td>0.413020</td>\n",
       "      <td>1.422331</td>\n",
       "      <td>-1.422331</td>\n",
       "    </tr>\n",
       "    <tr>\n",
       "      <th>2</th>\n",
       "      <td>2.010110</td>\n",
       "      <td>-0.085525</td>\n",
       "      <td>-0.035220</td>\n",
       "      <td>-0.031360</td>\n",
       "      <td>1.175051</td>\n",
       "      <td>-0.299271</td>\n",
       "      <td>5.067180</td>\n",
       "      <td>-0.035429</td>\n",
       "      <td>0.264286</td>\n",
       "      <td>-0.184064</td>\n",
       "      <td>...</td>\n",
       "      <td>-0.429346</td>\n",
       "      <td>2.906704</td>\n",
       "      <td>-0.224927</td>\n",
       "      <td>-0.098201</td>\n",
       "      <td>-0.181552</td>\n",
       "      <td>3.069667</td>\n",
       "      <td>-0.091612</td>\n",
       "      <td>-2.421192</td>\n",
       "      <td>1.422331</td>\n",
       "      <td>-1.422331</td>\n",
       "    </tr>\n",
       "    <tr>\n",
       "      <th>3</th>\n",
       "      <td>1.130359</td>\n",
       "      <td>-0.085525</td>\n",
       "      <td>-0.468215</td>\n",
       "      <td>-2.363558</td>\n",
       "      <td>-0.054859</td>\n",
       "      <td>-0.299271</td>\n",
       "      <td>4.997412</td>\n",
       "      <td>-0.035429</td>\n",
       "      <td>0.264286</td>\n",
       "      <td>-0.184064</td>\n",
       "      <td>...</td>\n",
       "      <td>-0.429346</td>\n",
       "      <td>2.906704</td>\n",
       "      <td>-0.224927</td>\n",
       "      <td>-0.098201</td>\n",
       "      <td>-0.181552</td>\n",
       "      <td>-0.325768</td>\n",
       "      <td>-0.091612</td>\n",
       "      <td>0.413020</td>\n",
       "      <td>1.422331</td>\n",
       "      <td>-1.422331</td>\n",
       "    </tr>\n",
       "    <tr>\n",
       "      <th>4</th>\n",
       "      <td>0.177296</td>\n",
       "      <td>-0.085525</td>\n",
       "      <td>0.709482</td>\n",
       "      <td>-0.031360</td>\n",
       "      <td>0.683087</td>\n",
       "      <td>-0.299271</td>\n",
       "      <td>4.997412</td>\n",
       "      <td>-0.035429</td>\n",
       "      <td>0.264286</td>\n",
       "      <td>-0.184064</td>\n",
       "      <td>...</td>\n",
       "      <td>2.329125</td>\n",
       "      <td>-0.344032</td>\n",
       "      <td>-0.224927</td>\n",
       "      <td>-0.098201</td>\n",
       "      <td>-0.181552</td>\n",
       "      <td>-0.325768</td>\n",
       "      <td>-0.091612</td>\n",
       "      <td>0.413020</td>\n",
       "      <td>1.422331</td>\n",
       "      <td>-1.422331</td>\n",
       "    </tr>\n",
       "    <tr>\n",
       "      <th>...</th>\n",
       "      <td>...</td>\n",
       "      <td>...</td>\n",
       "      <td>...</td>\n",
       "      <td>...</td>\n",
       "      <td>...</td>\n",
       "      <td>...</td>\n",
       "      <td>...</td>\n",
       "      <td>...</td>\n",
       "      <td>...</td>\n",
       "      <td>...</td>\n",
       "      <td>...</td>\n",
       "      <td>...</td>\n",
       "      <td>...</td>\n",
       "      <td>...</td>\n",
       "      <td>...</td>\n",
       "      <td>...</td>\n",
       "      <td>...</td>\n",
       "      <td>...</td>\n",
       "      <td>...</td>\n",
       "      <td>...</td>\n",
       "      <td>...</td>\n",
       "    </tr>\n",
       "    <tr>\n",
       "      <th>32556</th>\n",
       "      <td>-1.215643</td>\n",
       "      <td>-0.085525</td>\n",
       "      <td>1.140460</td>\n",
       "      <td>-0.031360</td>\n",
       "      <td>0.929069</td>\n",
       "      <td>-0.299271</td>\n",
       "      <td>-0.221075</td>\n",
       "      <td>-0.035429</td>\n",
       "      <td>0.264286</td>\n",
       "      <td>-0.184064</td>\n",
       "      <td>...</td>\n",
       "      <td>-0.429346</td>\n",
       "      <td>-0.344032</td>\n",
       "      <td>-0.224927</td>\n",
       "      <td>-0.098201</td>\n",
       "      <td>-0.181552</td>\n",
       "      <td>-0.325768</td>\n",
       "      <td>-0.091612</td>\n",
       "      <td>0.413020</td>\n",
       "      <td>-0.703071</td>\n",
       "      <td>0.703071</td>\n",
       "    </tr>\n",
       "    <tr>\n",
       "      <th>32557</th>\n",
       "      <td>-0.849080</td>\n",
       "      <td>-0.085525</td>\n",
       "      <td>0.639741</td>\n",
       "      <td>0.746039</td>\n",
       "      <td>1.421033</td>\n",
       "      <td>-0.299271</td>\n",
       "      <td>-0.221075</td>\n",
       "      <td>-0.197409</td>\n",
       "      <td>0.264286</td>\n",
       "      <td>5.432900</td>\n",
       "      <td>...</td>\n",
       "      <td>-0.429346</td>\n",
       "      <td>-0.344032</td>\n",
       "      <td>4.445891</td>\n",
       "      <td>-0.098201</td>\n",
       "      <td>-0.181552</td>\n",
       "      <td>-0.325768</td>\n",
       "      <td>-0.091612</td>\n",
       "      <td>0.413020</td>\n",
       "      <td>1.422331</td>\n",
       "      <td>-1.422331</td>\n",
       "    </tr>\n",
       "    <tr>\n",
       "      <th>32558</th>\n",
       "      <td>0.103983</td>\n",
       "      <td>-0.085525</td>\n",
       "      <td>-0.335433</td>\n",
       "      <td>-0.420060</td>\n",
       "      <td>-0.054859</td>\n",
       "      <td>-0.299271</td>\n",
       "      <td>-0.221075</td>\n",
       "      <td>-0.035429</td>\n",
       "      <td>0.264286</td>\n",
       "      <td>-0.184064</td>\n",
       "      <td>...</td>\n",
       "      <td>-0.429346</td>\n",
       "      <td>-0.344032</td>\n",
       "      <td>-0.224927</td>\n",
       "      <td>-0.098201</td>\n",
       "      <td>-0.181552</td>\n",
       "      <td>-0.325768</td>\n",
       "      <td>-0.091612</td>\n",
       "      <td>0.413020</td>\n",
       "      <td>-0.703071</td>\n",
       "      <td>0.703071</td>\n",
       "    </tr>\n",
       "    <tr>\n",
       "      <th>32559</th>\n",
       "      <td>1.423610</td>\n",
       "      <td>-0.085525</td>\n",
       "      <td>-0.358777</td>\n",
       "      <td>-0.420060</td>\n",
       "      <td>-1.530750</td>\n",
       "      <td>-0.299271</td>\n",
       "      <td>-0.221075</td>\n",
       "      <td>-0.035429</td>\n",
       "      <td>0.264286</td>\n",
       "      <td>-0.184064</td>\n",
       "      <td>...</td>\n",
       "      <td>-0.429346</td>\n",
       "      <td>2.906704</td>\n",
       "      <td>-0.224927</td>\n",
       "      <td>-0.098201</td>\n",
       "      <td>-0.181552</td>\n",
       "      <td>-0.325768</td>\n",
       "      <td>-0.091612</td>\n",
       "      <td>0.413020</td>\n",
       "      <td>1.422331</td>\n",
       "      <td>-1.422331</td>\n",
       "    </tr>\n",
       "    <tr>\n",
       "      <th>32560</th>\n",
       "      <td>-1.215643</td>\n",
       "      <td>-0.085525</td>\n",
       "      <td>0.110960</td>\n",
       "      <td>-0.420060</td>\n",
       "      <td>-1.530750</td>\n",
       "      <td>-0.299271</td>\n",
       "      <td>-0.221075</td>\n",
       "      <td>-1.655225</td>\n",
       "      <td>0.264286</td>\n",
       "      <td>-0.184064</td>\n",
       "      <td>...</td>\n",
       "      <td>2.329125</td>\n",
       "      <td>-0.344032</td>\n",
       "      <td>-0.224927</td>\n",
       "      <td>-0.098201</td>\n",
       "      <td>-0.181552</td>\n",
       "      <td>-0.325768</td>\n",
       "      <td>-0.091612</td>\n",
       "      <td>0.413020</td>\n",
       "      <td>-0.703071</td>\n",
       "      <td>0.703071</td>\n",
       "    </tr>\n",
       "  </tbody>\n",
       "</table>\n",
       "<p>32561 rows × 39 columns</p>\n",
       "</div>"
      ],
      "text/plain": [
       "            age  workclass    fnlwgt  education.num  occupation  capital.gain  \\\n",
       "0      3.769612  -0.085525 -1.067997      -0.420060    1.175051     -0.299271   \n",
       "1      3.183112  -0.085525 -0.539169      -0.420060   -0.792804     -0.299271   \n",
       "2      2.010110  -0.085525 -0.035220      -0.031360    1.175051     -0.299271   \n",
       "3      1.130359  -0.085525 -0.468215      -2.363558   -0.054859     -0.299271   \n",
       "4      0.177296  -0.085525  0.709482      -0.031360    0.683087     -0.299271   \n",
       "...         ...        ...       ...            ...         ...           ...   \n",
       "32556 -1.215643  -0.085525  1.140460      -0.031360    0.929069     -0.299271   \n",
       "32557 -0.849080  -0.085525  0.639741       0.746039    1.421033     -0.299271   \n",
       "32558  0.103983  -0.085525 -0.335433      -0.420060   -0.054859     -0.299271   \n",
       "32559  1.423610  -0.085525 -0.358777      -0.420060   -1.530750     -0.299271   \n",
       "32560 -1.215643  -0.085525  0.110960      -0.420060   -1.530750     -0.299271   \n",
       "\n",
       "       capital.loss  hours.per.week  native.country  education_Assoc-acdm  \\\n",
       "0          5.067180       -0.035429        0.264286             -0.184064   \n",
       "1          5.067180       -1.817204        0.264286             -0.184064   \n",
       "2          5.067180       -0.035429        0.264286             -0.184064   \n",
       "3          4.997412       -0.035429        0.264286             -0.184064   \n",
       "4          4.997412       -0.035429        0.264286             -0.184064   \n",
       "...             ...             ...             ...                   ...   \n",
       "32556     -0.221075       -0.035429        0.264286             -0.184064   \n",
       "32557     -0.221075       -0.197409        0.264286              5.432900   \n",
       "32558     -0.221075       -0.035429        0.264286             -0.184064   \n",
       "32559     -0.221075       -0.035429        0.264286             -0.184064   \n",
       "32560     -0.221075       -1.655225        0.264286             -0.184064   \n",
       "\n",
       "       ...  relationship_Own-child  relationship_Unmarried  relationship_Wife  \\\n",
       "0      ...               -0.429346               -0.344032          -0.224927   \n",
       "1      ...               -0.429346               -0.344032          -0.224927   \n",
       "2      ...               -0.429346                2.906704          -0.224927   \n",
       "3      ...               -0.429346                2.906704          -0.224927   \n",
       "4      ...                2.329125               -0.344032          -0.224927   \n",
       "...    ...                     ...                     ...                ...   \n",
       "32556  ...               -0.429346               -0.344032          -0.224927   \n",
       "32557  ...               -0.429346               -0.344032           4.445891   \n",
       "32558  ...               -0.429346               -0.344032          -0.224927   \n",
       "32559  ...               -0.429346                2.906704          -0.224927   \n",
       "32560  ...                2.329125               -0.344032          -0.224927   \n",
       "\n",
       "       race_Amer-Indian-Eskimo  race_Asian-Pac-Islander  race_Black  \\\n",
       "0                    -0.098201                -0.181552   -0.325768   \n",
       "1                    -0.098201                -0.181552   -0.325768   \n",
       "2                    -0.098201                -0.181552    3.069667   \n",
       "3                    -0.098201                -0.181552   -0.325768   \n",
       "4                    -0.098201                -0.181552   -0.325768   \n",
       "...                        ...                      ...         ...   \n",
       "32556                -0.098201                -0.181552   -0.325768   \n",
       "32557                -0.098201                -0.181552   -0.325768   \n",
       "32558                -0.098201                -0.181552   -0.325768   \n",
       "32559                -0.098201                -0.181552   -0.325768   \n",
       "32560                -0.098201                -0.181552   -0.325768   \n",
       "\n",
       "       race_Other  race_White  sex_Female  sex_Male  \n",
       "0       -0.091612    0.413020    1.422331 -1.422331  \n",
       "1       -0.091612    0.413020    1.422331 -1.422331  \n",
       "2       -0.091612   -2.421192    1.422331 -1.422331  \n",
       "3       -0.091612    0.413020    1.422331 -1.422331  \n",
       "4       -0.091612    0.413020    1.422331 -1.422331  \n",
       "...           ...         ...         ...       ...  \n",
       "32556   -0.091612    0.413020   -0.703071  0.703071  \n",
       "32557   -0.091612    0.413020    1.422331 -1.422331  \n",
       "32558   -0.091612    0.413020   -0.703071  0.703071  \n",
       "32559   -0.091612    0.413020    1.422331 -1.422331  \n",
       "32560   -0.091612    0.413020   -0.703071  0.703071  \n",
       "\n",
       "[32561 rows x 39 columns]"
      ]
     },
     "execution_count": 68,
     "metadata": {},
     "output_type": "execute_result"
    }
   ],
   "source": [
    "#Since the values have varying ranges we're going to scale them for better training\n",
    "from sklearn.preprocessing import StandardScaler\n",
    "scaler=StandardScaler()\n",
    "X_scaled=scaler.fit_transform(df_encoded)\n",
    "column_names=df_encoded.columns\n",
    "X=pd.DataFrame(X_scaled, columns=column_names)\n",
    "X"
   ]
  },
  {
   "cell_type": "code",
   "execution_count": 69,
   "metadata": {},
   "outputs": [
    {
     "data": {
      "text/plain": [
       "Index(['age', 'workclass', 'fnlwgt', 'education.num', 'occupation',\n",
       "       'capital.gain', 'capital.loss', 'hours.per.week', 'native.country',\n",
       "       'education_Assoc-acdm', 'education_Assoc-voc', 'education_Bachelors',\n",
       "       'education_Doctorate', 'education_HS-grad', 'education_Masters',\n",
       "       'education_Prof-school', 'education_Some-college', 'education_Under9',\n",
       "       'education_high-school', 'marital.status_Divorced',\n",
       "       'marital.status_Married-AF-spouse', 'marital.status_Married-civ-spouse',\n",
       "       'marital.status_Married-spouse-absent', 'marital.status_Never-married',\n",
       "       'marital.status_Separated', 'marital.status_Widowed',\n",
       "       'relationship_Husband', 'relationship_Not-in-family',\n",
       "       'relationship_Other-relative', 'relationship_Own-child',\n",
       "       'relationship_Unmarried', 'relationship_Wife',\n",
       "       'race_Amer-Indian-Eskimo', 'race_Asian-Pac-Islander', 'race_Black',\n",
       "       'race_Other', 'race_White', 'sex_Female', 'sex_Male'],\n",
       "      dtype='object')"
      ]
     },
     "execution_count": 69,
     "metadata": {},
     "output_type": "execute_result"
    }
   ],
   "source": [
    "features=X.columns\n",
    "features"
   ]
  },
  {
   "cell_type": "code",
   "execution_count": 70,
   "metadata": {},
   "outputs": [
    {
     "name": "stdout",
     "output_type": "stream",
     "text": [
      "Best number of features: 16\n",
      "Best features: ['age', 'education.num', 'capital.gain', 'capital.loss', 'hours.per.week', 'education_HS-grad', 'education_Masters', 'education_Prof-school', 'education_high-school', 'marital.status_Divorced', 'marital.status_Married-spouse-absent', 'marital.status_Never-married', 'marital.status_Separated', 'marital.status_Widowed', 'relationship_Other-relative', 'relationship_Own-child', 'relationship_Wife', 'sex_Female', 'sex_Male']\n"
     ]
    }
   ],
   "source": [
    "from sklearn.linear_model import LogisticRegression\n",
    "from sklearn.feature_selection import RFE\n",
    "from sklearn.metrics import f1_score\n",
    "logreg = LogisticRegression(solver='lbfgs')\n",
    "scores=[]\n",
    "for n_features in range(1,20):\n",
    "    \n",
    "    rfe = RFE(logreg, n_features_to_select=n_features)\n",
    "    rfe.fit(X, y)\n",
    "    best_subset=np.where(rfe.support_)[0]\n",
    "    if best_subset.shape[0] != n_features:\n",
    "        continue\n",
    "    X_best=X.iloc[:, best_subset]\n",
    "    logreg.fit(X_best, y)\n",
    "    y_pred = logreg.predict(X_best)\n",
    "    score=f1_score(y, y_pred)\n",
    "    scores.append(score)\n",
    "best_n_features = np.argmax(scores) + 1\n",
    "best_subset = np.where(rfe.support_)[0]\n",
    "best_features = [features[i] for i in best_subset]\n",
    "print(\"Best number of features:\", best_n_features)\n",
    "print(\"Best features:\", best_features)"
   ]
  },
  {
   "cell_type": "code",
   "execution_count": 71,
   "metadata": {},
   "outputs": [],
   "source": [
    "best_feature_indices = [X.columns.get_loc(feature) for feature in best_features]\n",
    "df_best = X.iloc[:, best_feature_indices]\n",
    "\n"
   ]
  },
  {
   "cell_type": "code",
   "execution_count": 74,
   "metadata": {},
   "outputs": [],
   "source": [
    "from sklearn.model_selection import train_test_split\n",
    "X_train, X_test, y_train, y_test= train_test_split(df_best, y, train_size=0.8)"
   ]
  },
  {
   "cell_type": "code",
   "execution_count": 75,
   "metadata": {},
   "outputs": [],
   "source": [
    "#SVM model\n",
    "from sklearn.svm import SVC\n",
    "clf = SVC(kernel=\"linear\", class_weight='balanced')\n",
    "svm_f=clf.fit(X_train, y_train)\n",
    "svm_preds=svm_f.predict(X_test)\n",
    "from sklearn.metrics import classification_report\n",
    "print(\"Classification report for Support Vector Machine:\")\n",
    "print(classification_report(y_test, svm_preds))"
   ]
  },
  {
   "cell_type": "code",
   "execution_count": 76,
   "metadata": {},
   "outputs": [
    {
     "name": "stdout",
     "output_type": "stream",
     "text": [
      "Classification report for Random Forest classifier:\n",
      "              precision    recall  f1-score   support\n",
      "\n",
      "           0       0.88      0.91      0.89      4912\n",
      "           1       0.69      0.60      0.64      1601\n",
      "\n",
      "    accuracy                           0.84      6513\n",
      "   macro avg       0.79      0.76      0.77      6513\n",
      "weighted avg       0.83      0.84      0.83      6513\n",
      "\n"
     ]
    }
   ],
   "source": [
    "# Use Random Forest to classify the data\n",
    "from sklearn.ensemble import RandomForestClassifier\n",
    "rfc = RandomForestClassifier()\n",
    "rfc.fit(X_train, y_train)\n",
    "\n",
    "# Random Forest stats\n",
    "print(\"Classification report for Random Forest classifier:\")\n",
    "print(classification_report(y_test, rfc.predict(X_test)))"
   ]
  },
  {
   "cell_type": "code",
   "execution_count": 77,
   "metadata": {},
   "outputs": [
    {
     "name": "stdout",
     "output_type": "stream",
     "text": [
      "Classification report for Random Forest classifier:\n",
      "              precision    recall  f1-score   support\n",
      "\n",
      "           0       0.86      0.92      0.89      4912\n",
      "           1       0.69      0.55      0.61      1601\n",
      "\n",
      "    accuracy                           0.83      6513\n",
      "   macro avg       0.78      0.74      0.75      6513\n",
      "weighted avg       0.82      0.83      0.82      6513\n",
      "\n"
     ]
    }
   ],
   "source": [
    "#Logistic Model\n",
    "from sklearn.linear_model import LogisticRegression\n",
    "logreg = LogisticRegression()\n",
    "logreg.fit(X_train, y_train)\n",
    "print(\"Classification report for Random Forest classifier:\")\n",
    "print(classification_report(y_test, logreg.predict(X_test)))"
   ]
  },
  {
   "cell_type": "code",
   "execution_count": 78,
   "metadata": {},
   "outputs": [],
   "source": [
    "#After the changes we have significantly reduced the amount of features required for training while maintaining similar performance"
   ]
  },
  {
   "cell_type": "code",
   "execution_count": 79,
   "metadata": {
    "scrolled": true
   },
   "outputs": [
    {
     "name": "stdout",
     "output_type": "stream",
     "text": [
      "Warning: Maximum number of iterations has been exceeded.\n",
      "         Current function value: 0.540182\n",
      "         Iterations: 35\n",
      "                           Logit Regression Results                           \n",
      "==============================================================================\n",
      "Dep. Variable:                 income   No. Observations:                32561\n",
      "Model:                          Logit   Df Residuals:                    32543\n",
      "Method:                           MLE   Df Model:                           17\n",
      "Date:                Wed, 01 Feb 2023   Pseudo R-squ.:                 0.02143\n",
      "Time:                        17:27:16   Log-Likelihood:                -17589.\n",
      "converged:                      False   LL-Null:                       -17974.\n",
      "Covariance Type:            nonrobust   LLR p-value:                9.484e-153\n",
      "========================================================================================================\n",
      "                                           coef    std err          z      P>|z|      [0.025      0.975]\n",
      "--------------------------------------------------------------------------------------------------------\n",
      "age                                      0.1826      0.016     11.136      0.000       0.150       0.215\n",
      "education.num                            0.5254      0.019     27.091      0.000       0.487       0.563\n",
      "capital.gain                             0.5965      0.019     31.347      0.000       0.559       0.634\n",
      "capital.loss                             0.2329      0.014     16.218      0.000       0.205       0.261\n",
      "hours.per.week                           0.2217      0.014     15.395      0.000       0.193       0.250\n",
      "education_HS-grad                       -0.0884      0.015     -5.939      0.000      -0.118      -0.059\n",
      "education_Masters                        0.1025      0.016      6.400      0.000       0.071       0.134\n",
      "education_Prof-school                    0.3018      0.034      8.877      0.000       0.235       0.368\n",
      "education_high-school                    0.0345      0.017      2.055      0.040       0.002       0.067\n",
      "marital.status_Divorced                 -0.4370      0.016    -28.141      0.000      -0.467      -0.407\n",
      "marital.status_Married-spouse-absent    -0.1369      0.013    -10.252      0.000      -0.163      -0.111\n",
      "marital.status_Never-married            -0.6248      0.019    -32.479      0.000      -0.663      -0.587\n",
      "marital.status_Separated                -0.2091      0.014    -15.083      0.000      -0.236      -0.182\n",
      "marital.status_Widowed                  -0.2061      0.015    -14.159      0.000      -0.235      -0.178\n",
      "relationship_Other-relative          -9.636e-05      0.014     -0.007      0.994      -0.027       0.027\n",
      "relationship_Own-child                   0.0428      0.016      2.620      0.009       0.011       0.075\n",
      "relationship_Wife                        0.1127      0.016      7.248      0.000       0.082       0.143\n",
      "sex_Female                              -0.0539   1.05e+06  -5.12e-08      1.000   -2.06e+06    2.06e+06\n",
      "sex_Male                                 0.0539   1.05e+06   5.12e-08      1.000   -2.06e+06    2.06e+06\n",
      "========================================================================================================\n"
     ]
    },
    {
     "name": "stderr",
     "output_type": "stream",
     "text": [
      "C:\\Users\\Jack\\anaconda3\\lib\\site-packages\\statsmodels\\base\\model.py:604: ConvergenceWarning: Maximum Likelihood optimization failed to converge. Check mle_retvals\n",
      "  warnings.warn(\"Maximum Likelihood optimization failed to \"\n"
     ]
    }
   ],
   "source": [
    "#Statsmodel is useful to interpret the importance of the features\n",
    "import statsmodels.api as sm\n",
    "logit = sm.Logit(y, df_best)\n",
    "result = logit.fit()\n",
    "print(result.summary())"
   ]
  },
  {
   "cell_type": "code",
   "execution_count": 81,
   "metadata": {},
   "outputs": [],
   "source": [
    "#Lets drop the variables with high p-values\n",
    "df_final=df_best.drop(columns=['relationship_Other-relative', 'sex_Female', 'sex_Male'])"
   ]
  },
  {
   "cell_type": "code",
   "execution_count": 84,
   "metadata": {},
   "outputs": [],
   "source": [
    "from sklearn.model_selection import train_test_split\n",
    "X_train1, X_test1, y_train1, y_test1= train_test_split(df_final, y, train_size=0.8)"
   ]
  },
  {
   "cell_type": "code",
   "execution_count": 85,
   "metadata": {},
   "outputs": [
    {
     "name": "stdout",
     "output_type": "stream",
     "text": [
      "Classification report for Random Forest classifier:\n",
      "              precision    recall  f1-score   support\n",
      "\n",
      "           0       0.88      0.92      0.90      4943\n",
      "           1       0.71      0.62      0.66      1570\n",
      "\n",
      "    accuracy                           0.85      6513\n",
      "   macro avg       0.80      0.77      0.78      6513\n",
      "weighted avg       0.84      0.85      0.84      6513\n",
      "\n"
     ]
    }
   ],
   "source": [
    "# Use Random Forest to classify the data\n",
    "from sklearn.ensemble import RandomForestClassifier\n",
    "rfc = RandomForestClassifier()\n",
    "rfc.fit(X_train1, y_train1)\n",
    "\n",
    "# Random Forest stats\n",
    "print(\"Classification report for Random Forest classifier:\")\n",
    "print(classification_report(y_test1, rfc.predict(X_test1)))"
   ]
  },
  {
   "cell_type": "code",
   "execution_count": 86,
   "metadata": {},
   "outputs": [
    {
     "name": "stdout",
     "output_type": "stream",
     "text": [
      "Classification report for Random Forest classifier:\n",
      "              precision    recall  f1-score   support\n",
      "\n",
      "           0       0.87      0.93      0.90      4943\n",
      "           1       0.70      0.55      0.62      1570\n",
      "\n",
      "    accuracy                           0.84      6513\n",
      "   macro avg       0.79      0.74      0.76      6513\n",
      "weighted avg       0.83      0.84      0.83      6513\n",
      "\n"
     ]
    }
   ],
   "source": [
    "from sklearn.linear_model import LogisticRegression\n",
    "logreg = LogisticRegression()\n",
    "logreg.fit(X_train1, y_train1)\n",
    "print(\"Classification report for Random Forest classifier:\")\n",
    "print(classification_report(y_test1, logreg.predict(X_test1)))"
   ]
  },
  {
   "cell_type": "code",
   "execution_count": null,
   "metadata": {},
   "outputs": [],
   "source": [
    "#Again we have slightly improved results with less independent variables"
   ]
  }
 ],
 "metadata": {
  "kernelspec": {
   "display_name": "Python 3",
   "language": "python",
   "name": "python3"
  },
  "language_info": {
   "codemirror_mode": {
    "name": "ipython",
    "version": 3
   },
   "file_extension": ".py",
   "mimetype": "text/x-python",
   "name": "python",
   "nbconvert_exporter": "python",
   "pygments_lexer": "ipython3",
   "version": "3.8.5"
  }
 },
 "nbformat": 4,
 "nbformat_minor": 5
}
